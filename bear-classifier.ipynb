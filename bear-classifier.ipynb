{
  "nbformat": 4,
  "nbformat_minor": 0,
  "metadata": {
    "colab": {
      "provenance": []
    },
    "kernelspec": {
      "name": "python3",
      "display_name": "Python 3"
    },
    "language_info": {
      "name": "python"
    },
    "widgets": {
      "application/vnd.jupyter.widget-state+json": {
        "4e164f8b6b40420b959ca7d5d4f35b5a": {
          "model_module": "@jupyter-widgets/controls",
          "model_name": "VBoxModel",
          "model_module_version": "1.5.0",
          "state": {
            "_dom_classes": [],
            "_model_module": "@jupyter-widgets/controls",
            "_model_module_version": "1.5.0",
            "_model_name": "VBoxModel",
            "_view_count": null,
            "_view_module": "@jupyter-widgets/controls",
            "_view_module_version": "1.5.0",
            "_view_name": "VBoxView",
            "box_style": "",
            "children": [
              "IPY_MODEL_8069121aff35405c8af666fbceee1855",
              "IPY_MODEL_fa5752b29d2345499edf9b3a7eb90851",
              "IPY_MODEL_a5cc107157b64fe5806a54f8176a8f30",
              "IPY_MODEL_99e098eb681346628b50fa1943a5f188",
              "IPY_MODEL_795af32651974f9faf597120c71a3ef3",
              "IPY_MODEL_09aed9a274c743dcb09b385b55f41242"
            ],
            "layout": "IPY_MODEL_0c1edbe8c31b4e0991150d7015b240e0"
          }
        },
        "8069121aff35405c8af666fbceee1855": {
          "model_module": "@jupyter-widgets/controls",
          "model_name": "LabelModel",
          "model_module_version": "1.5.0",
          "state": {
            "_dom_classes": [],
            "_model_module": "@jupyter-widgets/controls",
            "_model_module_version": "1.5.0",
            "_model_name": "LabelModel",
            "_view_count": null,
            "_view_module": "@jupyter-widgets/controls",
            "_view_module_version": "1.5.0",
            "_view_name": "LabelView",
            "description": "",
            "description_tooltip": null,
            "layout": "IPY_MODEL_4583635095544af391ed4c2260b1c6ae",
            "placeholder": "​",
            "style": "IPY_MODEL_feb00e565de048ed80c60398fcf0d5f9",
            "value": "Upload a pic of a bear."
          }
        },
        "fa5752b29d2345499edf9b3a7eb90851": {
          "model_module": "@jupyter-widgets/controls",
          "model_name": "LabelModel",
          "model_module_version": "1.5.0",
          "state": {
            "_dom_classes": [],
            "_model_module": "@jupyter-widgets/controls",
            "_model_module_version": "1.5.0",
            "_model_name": "LabelModel",
            "_view_count": null,
            "_view_module": "@jupyter-widgets/controls",
            "_view_module_version": "1.5.0",
            "_view_name": "LabelView",
            "description": "",
            "description_tooltip": null,
            "layout": "IPY_MODEL_0eb32c5c82994d149c5672afe6675c37",
            "placeholder": "​",
            "style": "IPY_MODEL_a10e5c21d5254569abab4bfe6dd8f864",
            "value": "Classifies Panda, Grizzly, Black, Teddy or Polar bears."
          }
        },
        "a5cc107157b64fe5806a54f8176a8f30": {
          "model_module": "@jupyter-widgets/controls",
          "model_name": "FileUploadModel",
          "model_module_version": "1.5.0",
          "state": {
            "_counter": 1,
            "_dom_classes": [],
            "_model_module": "@jupyter-widgets/controls",
            "_model_module_version": "1.5.0",
            "_model_name": "FileUploadModel",
            "_view_count": null,
            "_view_module": "@jupyter-widgets/controls",
            "_view_module_version": "1.5.0",
            "_view_name": "FileUploadView",
            "accept": "",
            "button_style": "",
            "data": [
              null
            ],
            "description": "Upload",
            "description_tooltip": null,
            "disabled": false,
            "error": "",
            "icon": "upload",
            "layout": "IPY_MODEL_b223353dc34d4170b3b5295d043dd773",
            "metadata": [
              {
                "name": "preto-no-branco-a-explicac3a7c3a3o-cientc3adfica-para-as-cores-do-panda.webp",
                "type": "image/webp",
                "size": 931070,
                "lastModified": 1665327078635
              }
            ],
            "multiple": false,
            "style": "IPY_MODEL_232bf867dda143e4afc60dbd7bc2ced6"
          }
        },
        "99e098eb681346628b50fa1943a5f188": {
          "model_module": "@jupyter-widgets/controls",
          "model_name": "ButtonModel",
          "model_module_version": "1.5.0",
          "state": {
            "_dom_classes": [],
            "_model_module": "@jupyter-widgets/controls",
            "_model_module_version": "1.5.0",
            "_model_name": "ButtonModel",
            "_view_count": null,
            "_view_module": "@jupyter-widgets/controls",
            "_view_module_version": "1.5.0",
            "_view_name": "ButtonView",
            "button_style": "",
            "description": "Classify",
            "disabled": false,
            "icon": "",
            "layout": "IPY_MODEL_b3be17cbdc8844c8a41165e3aee3f145",
            "style": "IPY_MODEL_af4cec28b8ff427c946c5c8b00f4b91e",
            "tooltip": ""
          }
        },
        "795af32651974f9faf597120c71a3ef3": {
          "model_module": "@jupyter-widgets/output",
          "model_name": "OutputModel",
          "model_module_version": "1.0.0",
          "state": {
            "_dom_classes": [],
            "_model_module": "@jupyter-widgets/output",
            "_model_module_version": "1.0.0",
            "_model_name": "OutputModel",
            "_view_count": null,
            "_view_module": "@jupyter-widgets/output",
            "_view_module_version": "1.0.0",
            "_view_name": "OutputView",
            "layout": "IPY_MODEL_f0cbab00ca384798b3dc8b82d25acabc",
            "msg_id": "",
            "outputs": [
              {
                "output_type": "display_data",
                "data": {
                  "text/plain": "<PIL.Image.Image image mode=RGB size=128x85>",
                  "image/png": "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\n"
                },
                "metadata": {}
              }
            ]
          }
        },
        "09aed9a274c743dcb09b385b55f41242": {
          "model_module": "@jupyter-widgets/controls",
          "model_name": "LabelModel",
          "model_module_version": "1.5.0",
          "state": {
            "_dom_classes": [],
            "_model_module": "@jupyter-widgets/controls",
            "_model_module_version": "1.5.0",
            "_model_name": "LabelModel",
            "_view_count": null,
            "_view_module": "@jupyter-widgets/controls",
            "_view_module_version": "1.5.0",
            "_view_name": "LabelView",
            "description": "",
            "description_tooltip": null,
            "layout": "IPY_MODEL_9658e5913265472ea8eb5a9a4446c9bf",
            "placeholder": "​",
            "style": "IPY_MODEL_4937c306223948fcb6b024b2d3601041",
            "value": "Prediction: panda; Probability: 0.9999"
          }
        },
        "0c1edbe8c31b4e0991150d7015b240e0": {
          "model_module": "@jupyter-widgets/base",
          "model_name": "LayoutModel",
          "model_module_version": "1.2.0",
          "state": {
            "_model_module": "@jupyter-widgets/base",
            "_model_module_version": "1.2.0",
            "_model_name": "LayoutModel",
            "_view_count": null,
            "_view_module": "@jupyter-widgets/base",
            "_view_module_version": "1.2.0",
            "_view_name": "LayoutView",
            "align_content": null,
            "align_items": null,
            "align_self": null,
            "border": null,
            "bottom": null,
            "display": null,
            "flex": null,
            "flex_flow": null,
            "grid_area": null,
            "grid_auto_columns": null,
            "grid_auto_flow": null,
            "grid_auto_rows": null,
            "grid_column": null,
            "grid_gap": null,
            "grid_row": null,
            "grid_template_areas": null,
            "grid_template_columns": null,
            "grid_template_rows": null,
            "height": null,
            "justify_content": null,
            "justify_items": null,
            "left": null,
            "margin": null,
            "max_height": null,
            "max_width": null,
            "min_height": null,
            "min_width": null,
            "object_fit": null,
            "object_position": null,
            "order": null,
            "overflow": null,
            "overflow_x": null,
            "overflow_y": null,
            "padding": null,
            "right": null,
            "top": null,
            "visibility": null,
            "width": null
          }
        },
        "4583635095544af391ed4c2260b1c6ae": {
          "model_module": "@jupyter-widgets/base",
          "model_name": "LayoutModel",
          "model_module_version": "1.2.0",
          "state": {
            "_model_module": "@jupyter-widgets/base",
            "_model_module_version": "1.2.0",
            "_model_name": "LayoutModel",
            "_view_count": null,
            "_view_module": "@jupyter-widgets/base",
            "_view_module_version": "1.2.0",
            "_view_name": "LayoutView",
            "align_content": null,
            "align_items": null,
            "align_self": null,
            "border": null,
            "bottom": null,
            "display": null,
            "flex": null,
            "flex_flow": null,
            "grid_area": null,
            "grid_auto_columns": null,
            "grid_auto_flow": null,
            "grid_auto_rows": null,
            "grid_column": null,
            "grid_gap": null,
            "grid_row": null,
            "grid_template_areas": null,
            "grid_template_columns": null,
            "grid_template_rows": null,
            "height": null,
            "justify_content": null,
            "justify_items": null,
            "left": null,
            "margin": null,
            "max_height": null,
            "max_width": null,
            "min_height": null,
            "min_width": null,
            "object_fit": null,
            "object_position": null,
            "order": null,
            "overflow": null,
            "overflow_x": null,
            "overflow_y": null,
            "padding": null,
            "right": null,
            "top": null,
            "visibility": null,
            "width": null
          }
        },
        "feb00e565de048ed80c60398fcf0d5f9": {
          "model_module": "@jupyter-widgets/controls",
          "model_name": "DescriptionStyleModel",
          "model_module_version": "1.5.0",
          "state": {
            "_model_module": "@jupyter-widgets/controls",
            "_model_module_version": "1.5.0",
            "_model_name": "DescriptionStyleModel",
            "_view_count": null,
            "_view_module": "@jupyter-widgets/base",
            "_view_module_version": "1.2.0",
            "_view_name": "StyleView",
            "description_width": ""
          }
        },
        "0eb32c5c82994d149c5672afe6675c37": {
          "model_module": "@jupyter-widgets/base",
          "model_name": "LayoutModel",
          "model_module_version": "1.2.0",
          "state": {
            "_model_module": "@jupyter-widgets/base",
            "_model_module_version": "1.2.0",
            "_model_name": "LayoutModel",
            "_view_count": null,
            "_view_module": "@jupyter-widgets/base",
            "_view_module_version": "1.2.0",
            "_view_name": "LayoutView",
            "align_content": null,
            "align_items": null,
            "align_self": null,
            "border": null,
            "bottom": null,
            "display": null,
            "flex": null,
            "flex_flow": null,
            "grid_area": null,
            "grid_auto_columns": null,
            "grid_auto_flow": null,
            "grid_auto_rows": null,
            "grid_column": null,
            "grid_gap": null,
            "grid_row": null,
            "grid_template_areas": null,
            "grid_template_columns": null,
            "grid_template_rows": null,
            "height": null,
            "justify_content": null,
            "justify_items": null,
            "left": null,
            "margin": null,
            "max_height": null,
            "max_width": null,
            "min_height": null,
            "min_width": null,
            "object_fit": null,
            "object_position": null,
            "order": null,
            "overflow": null,
            "overflow_x": null,
            "overflow_y": null,
            "padding": null,
            "right": null,
            "top": null,
            "visibility": null,
            "width": null
          }
        },
        "a10e5c21d5254569abab4bfe6dd8f864": {
          "model_module": "@jupyter-widgets/controls",
          "model_name": "DescriptionStyleModel",
          "model_module_version": "1.5.0",
          "state": {
            "_model_module": "@jupyter-widgets/controls",
            "_model_module_version": "1.5.0",
            "_model_name": "DescriptionStyleModel",
            "_view_count": null,
            "_view_module": "@jupyter-widgets/base",
            "_view_module_version": "1.2.0",
            "_view_name": "StyleView",
            "description_width": ""
          }
        },
        "b223353dc34d4170b3b5295d043dd773": {
          "model_module": "@jupyter-widgets/base",
          "model_name": "LayoutModel",
          "model_module_version": "1.2.0",
          "state": {
            "_model_module": "@jupyter-widgets/base",
            "_model_module_version": "1.2.0",
            "_model_name": "LayoutModel",
            "_view_count": null,
            "_view_module": "@jupyter-widgets/base",
            "_view_module_version": "1.2.0",
            "_view_name": "LayoutView",
            "align_content": null,
            "align_items": null,
            "align_self": null,
            "border": null,
            "bottom": null,
            "display": null,
            "flex": null,
            "flex_flow": null,
            "grid_area": null,
            "grid_auto_columns": null,
            "grid_auto_flow": null,
            "grid_auto_rows": null,
            "grid_column": null,
            "grid_gap": null,
            "grid_row": null,
            "grid_template_areas": null,
            "grid_template_columns": null,
            "grid_template_rows": null,
            "height": null,
            "justify_content": null,
            "justify_items": null,
            "left": null,
            "margin": null,
            "max_height": null,
            "max_width": null,
            "min_height": null,
            "min_width": null,
            "object_fit": null,
            "object_position": null,
            "order": null,
            "overflow": null,
            "overflow_x": null,
            "overflow_y": null,
            "padding": null,
            "right": null,
            "top": null,
            "visibility": null,
            "width": null
          }
        },
        "232bf867dda143e4afc60dbd7bc2ced6": {
          "model_module": "@jupyter-widgets/controls",
          "model_name": "ButtonStyleModel",
          "model_module_version": "1.5.0",
          "state": {
            "_model_module": "@jupyter-widgets/controls",
            "_model_module_version": "1.5.0",
            "_model_name": "ButtonStyleModel",
            "_view_count": null,
            "_view_module": "@jupyter-widgets/base",
            "_view_module_version": "1.2.0",
            "_view_name": "StyleView",
            "button_color": null,
            "font_weight": ""
          }
        },
        "b3be17cbdc8844c8a41165e3aee3f145": {
          "model_module": "@jupyter-widgets/base",
          "model_name": "LayoutModel",
          "model_module_version": "1.2.0",
          "state": {
            "_model_module": "@jupyter-widgets/base",
            "_model_module_version": "1.2.0",
            "_model_name": "LayoutModel",
            "_view_count": null,
            "_view_module": "@jupyter-widgets/base",
            "_view_module_version": "1.2.0",
            "_view_name": "LayoutView",
            "align_content": null,
            "align_items": null,
            "align_self": null,
            "border": null,
            "bottom": null,
            "display": null,
            "flex": null,
            "flex_flow": null,
            "grid_area": null,
            "grid_auto_columns": null,
            "grid_auto_flow": null,
            "grid_auto_rows": null,
            "grid_column": null,
            "grid_gap": null,
            "grid_row": null,
            "grid_template_areas": null,
            "grid_template_columns": null,
            "grid_template_rows": null,
            "height": null,
            "justify_content": null,
            "justify_items": null,
            "left": null,
            "margin": null,
            "max_height": null,
            "max_width": null,
            "min_height": null,
            "min_width": null,
            "object_fit": null,
            "object_position": null,
            "order": null,
            "overflow": null,
            "overflow_x": null,
            "overflow_y": null,
            "padding": null,
            "right": null,
            "top": null,
            "visibility": null,
            "width": null
          }
        },
        "af4cec28b8ff427c946c5c8b00f4b91e": {
          "model_module": "@jupyter-widgets/controls",
          "model_name": "ButtonStyleModel",
          "model_module_version": "1.5.0",
          "state": {
            "_model_module": "@jupyter-widgets/controls",
            "_model_module_version": "1.5.0",
            "_model_name": "ButtonStyleModel",
            "_view_count": null,
            "_view_module": "@jupyter-widgets/base",
            "_view_module_version": "1.2.0",
            "_view_name": "StyleView",
            "button_color": null,
            "font_weight": ""
          }
        },
        "9658e5913265472ea8eb5a9a4446c9bf": {
          "model_module": "@jupyter-widgets/base",
          "model_name": "LayoutModel",
          "model_module_version": "1.2.0",
          "state": {
            "_model_module": "@jupyter-widgets/base",
            "_model_module_version": "1.2.0",
            "_model_name": "LayoutModel",
            "_view_count": null,
            "_view_module": "@jupyter-widgets/base",
            "_view_module_version": "1.2.0",
            "_view_name": "LayoutView",
            "align_content": null,
            "align_items": null,
            "align_self": null,
            "border": null,
            "bottom": null,
            "display": null,
            "flex": null,
            "flex_flow": null,
            "grid_area": null,
            "grid_auto_columns": null,
            "grid_auto_flow": null,
            "grid_auto_rows": null,
            "grid_column": null,
            "grid_gap": null,
            "grid_row": null,
            "grid_template_areas": null,
            "grid_template_columns": null,
            "grid_template_rows": null,
            "height": null,
            "justify_content": null,
            "justify_items": null,
            "left": null,
            "margin": null,
            "max_height": null,
            "max_width": null,
            "min_height": null,
            "min_width": null,
            "object_fit": null,
            "object_position": null,
            "order": null,
            "overflow": null,
            "overflow_x": null,
            "overflow_y": null,
            "padding": null,
            "right": null,
            "top": null,
            "visibility": null,
            "width": null
          }
        },
        "4937c306223948fcb6b024b2d3601041": {
          "model_module": "@jupyter-widgets/controls",
          "model_name": "DescriptionStyleModel",
          "model_module_version": "1.5.0",
          "state": {
            "_model_module": "@jupyter-widgets/controls",
            "_model_module_version": "1.5.0",
            "_model_name": "DescriptionStyleModel",
            "_view_count": null,
            "_view_module": "@jupyter-widgets/base",
            "_view_module_version": "1.2.0",
            "_view_name": "StyleView",
            "description_width": ""
          }
        },
        "f0cbab00ca384798b3dc8b82d25acabc": {
          "model_module": "@jupyter-widgets/base",
          "model_name": "LayoutModel",
          "model_module_version": "1.2.0",
          "state": {
            "_model_module": "@jupyter-widgets/base",
            "_model_module_version": "1.2.0",
            "_model_name": "LayoutModel",
            "_view_count": null,
            "_view_module": "@jupyter-widgets/base",
            "_view_module_version": "1.2.0",
            "_view_name": "LayoutView",
            "align_content": null,
            "align_items": null,
            "align_self": null,
            "border": null,
            "bottom": null,
            "display": null,
            "flex": null,
            "flex_flow": null,
            "grid_area": null,
            "grid_auto_columns": null,
            "grid_auto_flow": null,
            "grid_auto_rows": null,
            "grid_column": null,
            "grid_gap": null,
            "grid_row": null,
            "grid_template_areas": null,
            "grid_template_columns": null,
            "grid_template_rows": null,
            "height": null,
            "justify_content": null,
            "justify_items": null,
            "left": null,
            "margin": null,
            "max_height": null,
            "max_width": null,
            "min_height": null,
            "min_width": null,
            "object_fit": null,
            "object_position": null,
            "order": null,
            "overflow": null,
            "overflow_x": null,
            "overflow_y": null,
            "padding": null,
            "right": null,
            "top": null,
            "visibility": null,
            "width": null
          }
        }
      }
    }
  },
  "cells": [
    {
      "cell_type": "code",
      "source": [
        "from fastai.vision.widgets import *\n",
        "from fastai.vision.all import *\n",
        "import os"
      ],
      "metadata": {
        "id": "uO6qdZ1OZ10B"
      },
      "execution_count": 1,
      "outputs": []
    },
    {
      "cell_type": "code",
      "execution_count": 4,
      "metadata": {
        "id": "UER9-Y-V-jMe"
      },
      "outputs": [],
      "source": [
        "path = Path()\n",
        "learn_inf = load_learner(path/'export.pkl')"
      ]
    },
    {
      "cell_type": "code",
      "execution_count": 5,
      "metadata": {
        "id": "Wve7OIWd-jMs"
      },
      "outputs": [],
      "source": [
        "out_pl = widgets.Output()\n",
        "def on_click_classify(change):\n",
        "    img = PILImage.create(btn_upload.data[-1])\n",
        "    out_pl.clear_output()\n",
        "    with out_pl: display(img.to_thumb(128,128))\n",
        "    pred,pred_idx,probs = learn_inf.predict(img)\n",
        "    lbl_pred.value = f'Prediction: {pred}; Probability: {probs[pred_idx]:.04f}'"
      ]
    },
    {
      "cell_type": "code",
      "execution_count": 6,
      "metadata": {
        "id": "AslgG0u7-jMv",
        "colab": {
          "base_uri": "https://localhost:8080/",
          "height": 486,
          "referenced_widgets": [
            "4e164f8b6b40420b959ca7d5d4f35b5a",
            "8069121aff35405c8af666fbceee1855",
            "fa5752b29d2345499edf9b3a7eb90851",
            "a5cc107157b64fe5806a54f8176a8f30",
            "99e098eb681346628b50fa1943a5f188",
            "795af32651974f9faf597120c71a3ef3",
            "09aed9a274c743dcb09b385b55f41242",
            "0c1edbe8c31b4e0991150d7015b240e0",
            "4583635095544af391ed4c2260b1c6ae",
            "feb00e565de048ed80c60398fcf0d5f9",
            "0eb32c5c82994d149c5672afe6675c37",
            "a10e5c21d5254569abab4bfe6dd8f864",
            "b223353dc34d4170b3b5295d043dd773",
            "232bf867dda143e4afc60dbd7bc2ced6",
            "b3be17cbdc8844c8a41165e3aee3f145",
            "af4cec28b8ff427c946c5c8b00f4b91e",
            "9658e5913265472ea8eb5a9a4446c9bf",
            "4937c306223948fcb6b024b2d3601041",
            "f0cbab00ca384798b3dc8b82d25acabc"
          ]
        },
        "outputId": "f2a3acbd-86b8-460b-dd6b-dd1eb40b0075"
      },
      "outputs": [
        {
          "output_type": "display_data",
          "data": {
            "text/plain": [
              "VBox(children=(Label(value='Upload a pic of a bear.'), Label(value='Classifies Panda, Grizzly, Black, Teddy or…"
            ],
            "application/vnd.jupyter.widget-view+json": {
              "version_major": 2,
              "version_minor": 0,
              "model_id": "4e164f8b6b40420b959ca7d5d4f35b5a"
            }
          },
          "metadata": {}
        },
        {
          "output_type": "error",
          "ename": "IndexError",
          "evalue": "ignored",
          "traceback": [
            "\u001b[0;31m---------------------------------------------------------------------------\u001b[0m",
            "\u001b[0;31mIndexError\u001b[0m                                Traceback (most recent call last)",
            "\u001b[0;32m<ipython-input-5-eb7c204e136a>\u001b[0m in \u001b[0;36mon_click_classify\u001b[0;34m(change)\u001b[0m\n\u001b[1;32m      1\u001b[0m \u001b[0mout_pl\u001b[0m \u001b[0;34m=\u001b[0m \u001b[0mwidgets\u001b[0m\u001b[0;34m.\u001b[0m\u001b[0mOutput\u001b[0m\u001b[0;34m(\u001b[0m\u001b[0;34m)\u001b[0m\u001b[0;34m\u001b[0m\u001b[0;34m\u001b[0m\u001b[0m\n\u001b[1;32m      2\u001b[0m \u001b[0;32mdef\u001b[0m \u001b[0mon_click_classify\u001b[0m\u001b[0;34m(\u001b[0m\u001b[0mchange\u001b[0m\u001b[0;34m)\u001b[0m\u001b[0;34m:\u001b[0m\u001b[0;34m\u001b[0m\u001b[0;34m\u001b[0m\u001b[0m\n\u001b[0;32m----> 3\u001b[0;31m     \u001b[0mimg\u001b[0m \u001b[0;34m=\u001b[0m \u001b[0mPILImage\u001b[0m\u001b[0;34m.\u001b[0m\u001b[0mcreate\u001b[0m\u001b[0;34m(\u001b[0m\u001b[0mbtn_upload\u001b[0m\u001b[0;34m.\u001b[0m\u001b[0mdata\u001b[0m\u001b[0;34m[\u001b[0m\u001b[0;34m-\u001b[0m\u001b[0;36m1\u001b[0m\u001b[0;34m]\u001b[0m\u001b[0;34m)\u001b[0m\u001b[0;34m\u001b[0m\u001b[0;34m\u001b[0m\u001b[0m\n\u001b[0m\u001b[1;32m      4\u001b[0m     \u001b[0mout_pl\u001b[0m\u001b[0;34m.\u001b[0m\u001b[0mclear_output\u001b[0m\u001b[0;34m(\u001b[0m\u001b[0;34m)\u001b[0m\u001b[0;34m\u001b[0m\u001b[0;34m\u001b[0m\u001b[0m\n\u001b[1;32m      5\u001b[0m     \u001b[0;32mwith\u001b[0m \u001b[0mout_pl\u001b[0m\u001b[0;34m:\u001b[0m \u001b[0mdisplay\u001b[0m\u001b[0;34m(\u001b[0m\u001b[0mimg\u001b[0m\u001b[0;34m.\u001b[0m\u001b[0mto_thumb\u001b[0m\u001b[0;34m(\u001b[0m\u001b[0;36m128\u001b[0m\u001b[0;34m,\u001b[0m\u001b[0;36m128\u001b[0m\u001b[0;34m)\u001b[0m\u001b[0;34m)\u001b[0m\u001b[0;34m\u001b[0m\u001b[0;34m\u001b[0m\u001b[0m\n",
            "\u001b[0;31mIndexError\u001b[0m: list index out of range"
          ]
        },
        {
          "output_type": "display_data",
          "data": {
            "text/plain": [
              "<IPython.core.display.HTML object>"
            ],
            "text/html": [
              "\n",
              "<style>\n",
              "    /* Turns off some styling */\n",
              "    progress {\n",
              "        /* gets rid of default border in Firefox and Opera. */\n",
              "        border: none;\n",
              "        /* Needs to be in here for Safari polyfill so background images work as expected. */\n",
              "        background-size: auto;\n",
              "    }\n",
              "    progress:not([value]), progress:not([value])::-webkit-progress-bar {\n",
              "        background: repeating-linear-gradient(45deg, #7e7e7e, #7e7e7e 10px, #5c5c5c 10px, #5c5c5c 20px);\n",
              "    }\n",
              "    .progress-bar-interrupted, .progress-bar-interrupted::-webkit-progress-bar {\n",
              "        background: #F44336;\n",
              "    }\n",
              "</style>\n"
            ]
          },
          "metadata": {}
        },
        {
          "output_type": "display_data",
          "data": {
            "text/plain": [
              "<IPython.core.display.HTML object>"
            ],
            "text/html": []
          },
          "metadata": {}
        }
      ],
      "source": [
        "btn_run = widgets.Button(description='Classify')\n",
        "btn_run.on_click(on_click_classify)\n",
        "btn_upload = widgets.FileUpload()\n",
        "lbl_pred = widgets.Label()\n",
        "\n",
        "VBox([widgets.Label('Upload a pic of a bear.'),\n",
        "      widgets.Label('Classifies Panda, Grizzly, Black, Teddy or Polar bears.'), \n",
        "      btn_upload, btn_run, out_pl, lbl_pred])"
      ]
    }
  ]
}